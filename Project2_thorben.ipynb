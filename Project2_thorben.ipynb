{
 "cells": [
  {
   "cell_type": "markdown",
   "metadata": {},
   "source": [
    "# Loading Dependencies"
   ]
  },
  {
   "cell_type": "code",
   "execution_count": 5,
   "metadata": {},
   "outputs": [
    {
     "name": "stdout",
     "output_type": "stream",
     "text": [
      "Current working directory:\n",
      "C:\\Users\\thorb\\COMP5328_Project2\n",
      "['CIFAR.npz', 'FashionMNIST0.5.npz', 'FashionMNIST0.6.npz']\n"
     ]
    }
   ],
   "source": [
    "#Loading Dependencies\n",
    "\n",
    "import pandas as pd\n",
    "from matplotlib import pyplot as plt\n",
    "import numpy as np\n",
    "import h5py\n",
    "import os\n",
    "import sklearn as sk\n",
    "from sklearn.decomposition import PCA\n",
    "from timeit import default_timer as timer\n",
    "\n",
    "\n",
    "from PIL import Image\n",
    "from IPython.display import display\n",
    "\n",
    "\n",
    "work_dir = os.getcwd()\n",
    "print('Current working directory:')\n",
    "print(work_dir)\n",
    "\n",
    "\n",
    "\n",
    "\n",
    "print(os.listdir(\"./data\"))"
   ]
  },
  {
   "cell_type": "markdown",
   "metadata": {},
   "source": [
    "# Loading Data"
   ]
  },
  {
   "cell_type": "markdown",
   "metadata": {},
   "source": [
    "## 1. Fashion MNIST0.5 "
   ]
  },
  {
   "cell_type": "code",
   "execution_count": 6,
   "metadata": {},
   "outputs": [
    {
     "data": {
      "text/plain": [
       "((18000, 28, 28), (18000,), (3000, 28, 28), (3000,))"
      ]
     },
     "execution_count": 6,
     "metadata": {},
     "output_type": "execute_result"
    }
   ],
   "source": [
    "data1 = np.load(work_dir + \"./data/FashionMNIST0.5.npz\")\n",
    "X_train1 = data1['Xtr']\n",
    "Y_train1 = data1['Str']\n",
    "X_test1 = data1['Xts']\n",
    "Y_test1 = data1['Yts']\n",
    "\n",
    "X_train1.shape, Y_train1.shape, X_test1.shape, Y_test1.shape"
   ]
  },
  {
   "cell_type": "code",
   "execution_count": 7,
   "metadata": {},
   "outputs": [
    {
     "data": {
      "text/plain": [
       "{0, 1, 2}"
      ]
     },
     "execution_count": 7,
     "metadata": {},
     "output_type": "execute_result"
    }
   ],
   "source": [
    "set(Y_train1)"
   ]
  },
  {
   "cell_type": "code",
   "execution_count": 8,
   "metadata": {},
   "outputs": [
    {
     "data": {
      "image/png": "[encoded data removed]",
      "text/plain": [
       "<PIL.Image.Image image mode=L size=28x28 at 0x2A97B280518>"
      ]
     },
     "metadata": {},
     "output_type": "display_data"
    },
    {
     "data": {
      "image/png": "[encoded data removed]",
      "text/plain": [
       "<PIL.Image.Image image mode=L size=28x28 at 0x2A97B280390>"
      ]
     },
     "metadata": {},
     "output_type": "display_data"
    },
    {
     "data": {
      "image/png": "[encoded data removed]",
      "text/plain": [
       "<PIL.Image.Image image mode=L size=28x28 at 0x2A97B280518>"
      ]
     },
     "metadata": {},
     "output_type": "display_data"
    },
    {
     "data": {
      "image/png": "[encoded data removed]",
      "text/plain": [
       "<PIL.Image.Image image mode=L size=28x28 at 0x2A97B280390>"
      ]
     },
     "metadata": {},
     "output_type": "display_data"
    },
    {
     "data": {
      "image/png": "[encoded data removed]",
      "text/plain": [
       "<PIL.Image.Image image mode=L size=28x28 at 0x2A97B280518>"
      ]
     },
     "metadata": {},
     "output_type": "display_data"
    },
    {
     "data": {
      "image/png": "[encoded data removed]",
      "text/plain": [
       "<PIL.Image.Image image mode=L size=28x28 at 0x2A97B280390>"
      ]
     },
     "metadata": {},
     "output_type": "display_data"
    },
    {
     "data": {
      "image/png": "[encoded data removed]",
      "text/plain": [
       "<PIL.Image.Image image mode=L size=28x28 at 0x2A97C2E3D30>"
      ]
     },
     "metadata": {},
     "output_type": "display_data"
    },
    {
     "data": {
      "image/png": "[encoded data removed]",
      "text/plain": [
       "<PIL.Image.Image image mode=L size=28x28 at 0x2A97B280518>"
      ]
     },
     "metadata": {},
     "output_type": "display_data"
    },
    {
     "data": {
      "image/png": "[encoded data removed]",
      "text/plain": [
       "<PIL.Image.Image image mode=L size=28x28 at 0x2A97B2805C0>"
      ]
     },
     "metadata": {},
     "output_type": "display_data"
    },
    {
     "data": {
      "image/png": "[encoded data removed]",
      "text/plain": [
       "<PIL.Image.Image image mode=L size=28x28 at 0x2A97B280518>"
      ]
     },
     "metadata": {},
     "output_type": "display_data"
    }
   ],
   "source": [
    "for k in np.random.randint(18000, size=10):\n",
    "    X_image = X_train1[k]\n",
    "    display(Image.fromarray(X_image))\n"
   ]
  },
  {
   "cell_type": "markdown",
   "metadata": {},
   "source": [
    "## 2. MNIST 0.6"
   ]
  },
  {
   "cell_type": "code",
   "execution_count": 9,
   "metadata": {},
   "outputs": [
    {
     "data": {
      "text/plain": [
       "((18000, 28, 28), (18000,), (3000, 28, 28), (3000,))"
      ]
     },
     "execution_count": 9,
     "metadata": {},
     "output_type": "execute_result"
    }
   ],
   "source": [
    "data2 = np.load(work_dir + \"./data/FashionMNIST0.6.npz\")\n",
    "X_train2 = data2['Xtr']\n",
    "Y_train2 = data2['Str']\n",
    "X_test2 = data2['Xts']\n",
    "Y_test2 = data2['Yts']\n",
    "\n",
    "X_train2.shape, Y_train2.shape, X_test2.shape, Y_test2.shape"
   ]
  },
  {
   "cell_type": "code",
   "execution_count": 10,
   "metadata": {},
   "outputs": [
    {
     "data": {
      "text/plain": [
       "{0, 1, 2}"
      ]
     },
     "execution_count": 10,
     "metadata": {},
     "output_type": "execute_result"
    }
   ],
   "source": [
    "set(Y_train2)"
   ]
  },
  {
   "cell_type": "code",
   "execution_count": 11,
   "metadata": {},
   "outputs": [
    {
     "data": {
      "image/png": "[encoded data removed]",
      "text/plain": [
       "<PIL.Image.Image image mode=L size=28x28 at 0x2A97C2EF0B8>"
      ]
     },
     "metadata": {},
     "output_type": "display_data"
    },
    {
     "data": {
      "image/png": "[encoded data removed]",
      "text/plain": [
       "<PIL.Image.Image image mode=L size=28x28 at 0x2A97C2EF128>"
      ]
     },
     "metadata": {},
     "output_type": "display_data"
    },
    {
     "data": {
      "image/png": "[encoded data removed]",
      "text/plain": [
       "<PIL.Image.Image image mode=L size=28x28 at 0x2A97C2EF0B8>"
      ]
     },
     "metadata": {},
     "output_type": "display_data"
    },
    {
     "data": {
      "image/png": "[encoded data removed]",
      "text/plain": [
       "<PIL.Image.Image image mode=L size=28x28 at 0x2A97C2EF0F0>"
      ]
     },
     "metadata": {},
     "output_type": "display_data"
    },
    {
     "data": {
      "image/png": "[encoded data removed]",
      "text/plain": [
       "<PIL.Image.Image image mode=L size=28x28 at 0x2A97C2EF0B8>"
      ]
     },
     "metadata": {},
     "output_type": "display_data"
    },
    {
     "data": {
      "image/png": "[encoded data removed]",
      "text/plain": [
       "<PIL.Image.Image image mode=L size=28x28 at 0x2A97C2EF0F0>"
      ]
     },
     "metadata": {},
     "output_type": "display_data"
    },
    {
     "data": {
      "image/png": "[encoded data removed]",
      "text/plain": [
       "<PIL.Image.Image image mode=L size=28x28 at 0x2A97C2EF128>"
      ]
     },
     "metadata": {},
     "output_type": "display_data"
    },
    {
     "data": {
      "image/png": "[encoded data removed]",
      "text/plain": [
       "<PIL.Image.Image image mode=L size=28x28 at 0x2A97C2EF0F0>"
      ]
     },
     "metadata": {},
     "output_type": "display_data"
    },
    {
     "data": {
      "image/png": "[encoded data removed]",
      "text/plain": [
       "<PIL.Image.Image image mode=L size=28x28 at 0x2A97C2EF128>"
      ]
     },
     "metadata": {},
     "output_type": "display_data"
    },
    {
     "data": {
      "image/png": "[encoded data removed]",
      "text/plain": [
       "<PIL.Image.Image image mode=L size=28x28 at 0x2A97C2EF160>"
      ]
     },
     "metadata": {},
     "output_type": "display_data"
    }
   ],
   "source": [
    "for k in np.random.randint(18000, size=10):\n",
    "    X_image = X_train2[k]\n",
    "    display(Image.fromarray(X_image))\n"
   ]
  },
  {
   "cell_type": "markdown",
   "metadata": {},
   "source": [
    "# CIFAR"
   ]
  },
  {
   "cell_type": "code",
   "execution_count": 12,
   "metadata": {},
   "outputs": [
    {
     "data": {
      "text/plain": [
       "((15000, 32, 32, 3), (15000,), (3000, 32, 32, 3), (3000,))"
      ]
     },
     "execution_count": 12,
     "metadata": {},
     "output_type": "execute_result"
    }
   ],
   "source": [
    "data3 = np.load(work_dir + \"./data/CIFAR.npz\")\n",
    "X_train3 = data3['Xtr']\n",
    "Y_train3 = data3['Str']\n",
    "X_test3 = data3['Xts']\n",
    "Y_test3 = data3['Yts']\n",
    "\n",
    "X_train3.shape, Y_train3.shape, X_test3.shape, Y_test3.shape"
   ]
  },
  {
   "cell_type": "code",
   "execution_count": 13,
   "metadata": {},
   "outputs": [
    {
     "data": {
      "text/plain": [
       "{0, 1, 2}"
      ]
     },
     "execution_count": 13,
     "metadata": {},
     "output_type": "execute_result"
    }
   ],
   "source": [
    "set(Y_train3)"
   ]
  },
  {
   "cell_type": "code",
   "execution_count": 14,
   "metadata": {},
   "outputs": [
    {
     "data": {
      "image/png": "[encoded data removed]",
      "text/plain": [
       "<PIL.Image.Image image mode=RGB size=32x32 at 0x2A97C2EF780>"
      ]
     },
     "metadata": {},
     "output_type": "display_data"
    },
    {
     "data": {
      "image/png": "[encoded data removed]",
      "text/plain": [
       "<PIL.Image.Image image mode=RGB size=32x32 at 0x2A97C2EF940>"
      ]
     },
     "metadata": {},
     "output_type": "display_data"
    },
    {
     "data": {
      "image/png": "[encoded data removed]",
      "text/plain": [
       "<PIL.Image.Image image mode=RGB size=32x32 at 0x2A97C2EF898>"
      ]
     },
     "metadata": {},
     "output_type": "display_data"
    },
    {
     "data": {
      "image/png": "[encoded data removed]",
      "text/plain": [
       "<PIL.Image.Image image mode=RGB size=32x32 at 0x2A97C2EFB00>"
      ]
     },
     "metadata": {},
     "output_type": "display_data"
    },
    {
     "data": {
      "image/png": "[encoded data removed]",
      "text/plain": [
       "<PIL.Image.Image image mode=RGB size=32x32 at 0x2A97B280400>"
      ]
     },
     "metadata": {},
     "output_type": "display_data"
    },
    {
     "data": {
      "image/png": "[encoded data removed]",
      "text/plain": [
       "<PIL.Image.Image image mode=RGB size=32x32 at 0x2A97C2EFB00>"
      ]
     },
     "metadata": {},
     "output_type": "display_data"
    },
    {
     "data": {
      "image/png": "[encoded data removed]",
      "text/plain": [
       "<PIL.Image.Image image mode=RGB size=32x32 at 0x2A97C2EF898>"
      ]
     },
     "metadata": {},
     "output_type": "display_data"
    },
    {
     "data": {
      "image/png": "[encoded data removed]",
      "text/plain": [
       "<PIL.Image.Image image mode=RGB size=32x32 at 0x2A97C2EF780>"
      ]
     },
     "metadata": {},
     "output_type": "display_data"
    },
    {
     "data": {
      "image/png": "[encoded data removed]",
      "text/plain": [
       "<PIL.Image.Image image mode=RGB size=32x32 at 0x2A97C2EF400>"
      ]
     },
     "metadata": {},
     "output_type": "display_data"
    },
    {
     "data": {
      "image/png": "[encoded data removed]",
      "text/plain": [
       "<PIL.Image.Image image mode=RGB size=32x32 at 0x2A97B186860>"
      ]
     },
     "metadata": {},
     "output_type": "display_data"
    }
   ],
   "source": [
    "for k in np.random.randint(15000, size=10):\n",
    "    X_image = X_train3[k]\n",
    "    display(Image.fromarray(X_image))"
   ]
  },
  {
   "cell_type": "markdown",
   "metadata": {},
   "source": [
    "## Preprocessing"
   ]
  },
  {
   "cell_type": "code",
   "execution_count": 156,
   "metadata": {},
   "outputs": [],
   "source": [
    "def encode(Y):\n",
    "    n,c = Y.size, 3\n",
    "    Y_encoded = np.zeros((n,c))\n",
    "    \n",
    "    for i in range(n):\n",
    "        Y_encoded[i,Y[i]] = 1\n",
    "    \n",
    "    return Y_encoded\n",
    "    \n",
    "    "
   ]
  },
  {
   "cell_type": "code",
   "execution_count": 16,
   "metadata": {},
   "outputs": [
    {
     "data": {
      "text/plain": [
       "(18000, 3)"
      ]
     },
     "execution_count": 16,
     "metadata": {},
     "output_type": "execute_result"
    }
   ],
   "source": [
    "encode(Y_train1).shape"
   ]
  },
  {
   "cell_type": "markdown",
   "metadata": {},
   "source": [
    "# Models"
   ]
  },
  {
   "cell_type": "markdown",
   "metadata": {},
   "source": [
    "## Multinomial"
   ]
  },
  {
   "cell_type": "code",
   "execution_count": 42,
   "metadata": {},
   "outputs": [],
   "source": [
    "### testing with sklearn\n",
    "\n",
    "\n",
    "from sklearn.linear_model import LogisticRegression\n",
    "clf = LogisticRegression(random_state=0, solver='lbfgs',multi_class='multinomial',max_iter = 10000).fit(X, Y)"
   ]
  },
  {
   "cell_type": "code",
   "execution_count": 43,
   "metadata": {},
   "outputs": [
    {
     "data": {
      "text/plain": [
       "919"
      ]
     },
     "execution_count": 43,
     "metadata": {},
     "output_type": "execute_result"
    }
   ],
   "source": [
    "len(np.where(clf.predict(X)==Y)[0])"
   ]
  },
  {
   "cell_type": "markdown",
   "metadata": {},
   "source": [
    "## Completely new Multinomial Grad Descent"
   ]
  },
  {
   "cell_type": "code",
   "execution_count": 119,
   "metadata": {},
   "outputs": [],
   "source": [
    "#Returns softmax values for n vectors of dimension c\n",
    "def softmax(array):\n",
    "    n,c = array.shape\n",
    "    temp = np.exp(array)\n",
    "    temp2 = temp.sum(axis = 1)\n",
    "    \n",
    "    return temp/temp2.reshape(n,1)  #Division row wise"
   ]
  },
  {
   "cell_type": "code",
   "execution_count": 171,
   "metadata": {},
   "outputs": [],
   "source": [
    "def mu(X,W):\n",
    "    XW = X@W\n",
    "    \n",
    "    return softmax(XW)"
   ]
  },
  {
   "cell_type": "code",
   "execution_count": 190,
   "metadata": {},
   "outputs": [],
   "source": [
    "# Returns the gradient of the cross error entropy function in W (as per Murphy)\n",
    "# X nxp\n",
    "# W pxC\n",
    "# Y (encoded) nxC\n",
    "def ceef_grad(X,W,Y):\n",
    "    Y = encode(Y)\n",
    "    mu_matrix = mu(X,W) #nxc\n",
    "    n,p = X.shape\n",
    "    p,c = W.shape\n",
    "\n",
    "    grad = np.zeros((p,c))\n",
    "    for i in range(n):\n",
    "        grad += np.transpose(np.kron((mu_matrix[i,:] - Y[i,:]),X[i,:]).reshape(c,p))\n",
    "        #reshape: reshapes a matrix by filling up rows first, we need columns first, thus the transpose with interchange p,c\n",
    "    \n",
    "    return grad/n    \n",
    "\n"
   ]
  },
  {
   "cell_type": "code",
   "execution_count": 200,
   "metadata": {},
   "outputs": [],
   "source": [
    "\n",
    "##### ADJUST THIS\n",
    "def softmax_fit2(X, W, y, lr = 0.01, nepoches = 100, tol = 1e-5, batch_size = 10):\n",
    "    W_old = W.copy()\n",
    "    ep = 0 \n",
    "    N = X.shape[0]\n",
    "    nbatches = int(np.ceil(float(N)/batch_size))\n",
    "    while ep < nepoches: \n",
    "        print(\"iteration:\" + str(ep))\n",
    "        ep += 1 \n",
    "        mix_ids = np.random.permutation(N) # mix data \n",
    "        for i in range(nbatches):\n",
    "            # get the i-th batch\n",
    "            batch_ids = mix_ids[batch_size*i:min(batch_size*(i+1), N)] \n",
    "            X_batch, y_batch = X[batch_ids], y[batch_ids]\n",
    "            W -= lr*ceef_grad(X_batch,W, y_batch) # update gradient descent # TODO\n",
    "        \n",
    "        print(\"Diff: \" + str(np.linalg.norm(W - W_old)/W.size))\n",
    "        \n",
    "        if np.linalg.norm(W - W_old)/W.size < tol:\n",
    "            break \n",
    "        W_old = W.copy()\n",
    "    return W\n"
   ]
  },
  {
   "cell_type": "code",
   "execution_count": 194,
   "metadata": {},
   "outputs": [],
   "source": [
    "def multinomial_grad_descent(X,W,Y,eta,max_iter,tol):    \n",
    "    grad = ceef_grad(X,W,Y)\n",
    "    diff = np.linalg.norm(eta * grad)\n",
    "    iter = 0\n",
    "    \n",
    "    while (diff > tol) and iter < max_iter:\n",
    "        W_old = W.copy()\n",
    "        \n",
    "        if iter%20 == 0:\n",
    "            print('Iter:' + str(iter))\n",
    "            print('Current diff' + str(diff))\n",
    "        \n",
    "        W = W - eta * grad\n",
    "        \n",
    "        #new gradient:\n",
    "        grad = ceef_grad(X,W,Y)\n",
    "        #new diff:\n",
    "        diff = (np.linalg.norm(W - W_old))/W.size\n",
    "        iter += 1\n",
    "        print(diff)\n",
    "        \n",
    "    return W\n",
    "    "
   ]
  },
  {
   "cell_type": "code",
   "execution_count": 192,
   "metadata": {},
   "outputs": [],
   "source": [
    "#X nxp\n",
    "#W pxc\n",
    "\n",
    "def get_predictions(X,W):\n",
    "    n,p = X.shape\n",
    "    predictions = np.zeros(n)\n",
    "    \n",
    "    mu_matrix = mu(X,W)\n",
    "    for i in range(n):\n",
    "        predictions[i] = np.argmax(mu_matrix[i,:])\n",
    "    \n",
    "    return predictions  "
   ]
  },
  {
   "cell_type": "markdown",
   "metadata": {},
   "source": [
    "### Tests:"
   ]
  },
  {
   "cell_type": "code",
   "execution_count": 197,
   "metadata": {},
   "outputs": [
    {
     "name": "stderr",
     "output_type": "stream",
     "text": [
      "C:\\Users\\thorb\\Anaconda3\\lib\\site-packages\\sklearn\\utils\\validation.py:595: DataConversionWarning: Data with input dtype uint8 was converted to float64 by StandardScaler.\n",
      "  warnings.warn(msg, DataConversionWarning)\n",
      "C:\\Users\\thorb\\Anaconda3\\lib\\site-packages\\sklearn\\utils\\validation.py:595: DataConversionWarning: Data with input dtype uint8 was converted to float64 by StandardScaler.\n",
      "  warnings.warn(msg, DataConversionWarning)\n"
     ]
    }
   ],
   "source": [
    "X = scaler.fit_transform(X_train1[:1000,:].reshape(1000,28*28))\n",
    "Y = Y_train1[:1000]\n",
    "#W = np.random.randint(5,size=(28*28,3))\n",
    "W =  0.01* np.random.rand(28*28,3)"
   ]
  },
  {
   "cell_type": "code",
   "execution_count": 201,
   "metadata": {},
   "outputs": [
    {
     "name": "stdout",
     "output_type": "stream",
     "text": [
      "iteration:0\n",
      "Diff: 0.00018831923077746078\n",
      "iteration:1\n",
      "Diff: 0.0001246701934723679\n",
      "iteration:2\n",
      "Diff: 0.00010338217451650772\n",
      "iteration:3\n",
      "Diff: 0.00010602931592071802\n",
      "iteration:4\n",
      "Diff: 9.647513479506107e-05\n",
      "iteration:5\n",
      "Diff: 8.676598764070488e-05\n",
      "iteration:6\n",
      "Diff: 8.872195546622779e-05\n",
      "iteration:7\n",
      "Diff: 8.75541648565917e-05\n",
      "iteration:8\n",
      "Diff: 7.581624058982594e-05\n",
      "iteration:9\n",
      "Diff: 7.683178651908192e-05\n",
      "iteration:10\n",
      "Diff: 6.938375092969417e-05\n",
      "iteration:11\n",
      "Diff: 7.81737343412486e-05\n",
      "iteration:12\n",
      "Diff: 7.116753967128027e-05\n",
      "iteration:13\n",
      "Diff: 6.608669525914494e-05\n",
      "iteration:14\n",
      "Diff: 6.047439226498809e-05\n",
      "iteration:15\n",
      "Diff: 5.901674280226644e-05\n",
      "iteration:16\n",
      "Diff: 5.7420081908394634e-05\n",
      "iteration:17\n",
      "Diff: 6.259164905279302e-05\n",
      "iteration:18\n",
      "Diff: 6.409960970513822e-05\n",
      "iteration:19\n",
      "Diff: 5.963057943895684e-05\n",
      "iteration:20\n",
      "Diff: 6.106681739716469e-05\n",
      "iteration:21\n",
      "Diff: 5.744897728173074e-05\n",
      "iteration:22\n",
      "Diff: 5.9867079805091885e-05\n",
      "iteration:23\n",
      "Diff: 5.192931690346384e-05\n",
      "iteration:24\n",
      "Diff: 4.917019308699601e-05\n",
      "iteration:25\n",
      "Diff: 6.09519707587757e-05\n",
      "iteration:26\n",
      "Diff: 5.57863571755876e-05\n",
      "iteration:27\n",
      "Diff: 6.605688903285137e-05\n",
      "iteration:28\n",
      "Diff: 7.26672932306806e-05\n",
      "iteration:29\n",
      "Diff: 6.111679482532784e-05\n",
      "iteration:30\n",
      "Diff: 6.366515867077703e-05\n",
      "iteration:31\n",
      "Diff: 6.045573741971503e-05\n",
      "iteration:32\n",
      "Diff: 6.015316385678707e-05\n",
      "iteration:33\n",
      "Diff: 4.959983279106571e-05\n",
      "iteration:34\n",
      "Diff: 5.9552001850416584e-05\n",
      "iteration:35\n",
      "Diff: 5.68299619875226e-05\n",
      "iteration:36\n",
      "Diff: 4.873385625202308e-05\n",
      "iteration:37\n",
      "Diff: 4.949909032568042e-05\n",
      "iteration:38\n",
      "Diff: 6.822943797406129e-05\n",
      "iteration:39\n",
      "Diff: 6.711259279321003e-05\n",
      "iteration:40\n",
      "Diff: 6.205885361452274e-05\n",
      "iteration:41\n",
      "Diff: 5.592158162285382e-05\n",
      "iteration:42\n",
      "Diff: 5.256294851005972e-05\n",
      "iteration:43\n",
      "Diff: 5.344047652428528e-05\n",
      "iteration:44\n",
      "Diff: 6.0160886700530254e-05\n",
      "iteration:45\n",
      "Diff: 5.784964088434705e-05\n",
      "iteration:46\n",
      "Diff: 5.4738228518411676e-05\n",
      "iteration:47\n",
      "Diff: 5.326786166741939e-05\n",
      "iteration:48\n",
      "Diff: 5.2674011458583916e-05\n",
      "iteration:49\n",
      "Diff: 5.632258418125443e-05\n",
      "iteration:50\n",
      "Diff: 5.437580597576937e-05\n",
      "iteration:51\n",
      "Diff: 4.8508478970519676e-05\n",
      "iteration:52\n",
      "Diff: 6.183571838635834e-05\n",
      "iteration:53\n",
      "Diff: 5.641896284401011e-05\n",
      "iteration:54\n",
      "Diff: 5.4760384773755776e-05\n",
      "iteration:55\n",
      "Diff: 4.6983111960665694e-05\n",
      "iteration:56\n",
      "Diff: 4.6678366147053645e-05\n",
      "iteration:57\n",
      "Diff: 5.174508702853902e-05\n",
      "iteration:58\n",
      "Diff: 5.292343807755452e-05\n",
      "iteration:59\n",
      "Diff: 4.455130822172502e-05\n",
      "iteration:60\n",
      "Diff: 5.051357400725705e-05\n",
      "iteration:61\n",
      "Diff: 4.880284574003307e-05\n",
      "iteration:62\n",
      "Diff: 4.4857961967696934e-05\n",
      "iteration:63\n",
      "Diff: 4.945823941705632e-05\n",
      "iteration:64\n",
      "Diff: 5.3358969493522056e-05\n",
      "iteration:65\n",
      "Diff: 5.347595058915686e-05\n",
      "iteration:66\n",
      "Diff: 5.107097236168823e-05\n",
      "iteration:67\n",
      "Diff: 4.060609854024078e-05\n",
      "iteration:68\n",
      "Diff: 4.792075963133214e-05\n",
      "iteration:69\n",
      "Diff: 4.037221672795176e-05\n",
      "iteration:70\n",
      "Diff: 4.854465250274123e-05\n",
      "iteration:71\n",
      "Diff: 4.185510990245692e-05\n",
      "iteration:72\n",
      "Diff: 6.0007723537818245e-05\n",
      "iteration:73\n",
      "Diff: 6.091289838004118e-05\n",
      "iteration:74\n",
      "Diff: 5.064674751218632e-05\n",
      "iteration:75\n",
      "Diff: 4.750493323541904e-05\n",
      "iteration:76\n",
      "Diff: 4.6107094234845524e-05\n",
      "iteration:77\n",
      "Diff: 5.5062641664981846e-05\n",
      "iteration:78\n",
      "Diff: 5.547552654984798e-05\n",
      "iteration:79\n",
      "Diff: 4.548223422237545e-05\n",
      "iteration:80\n",
      "Diff: 5.4563273410957075e-05\n",
      "iteration:81\n",
      "Diff: 5.373782227280991e-05\n",
      "iteration:82\n",
      "Diff: 4.3223613951280775e-05\n",
      "iteration:83\n",
      "Diff: 4.734272650100961e-05\n",
      "iteration:84\n",
      "Diff: 5.149715395506792e-05\n",
      "iteration:85\n",
      "Diff: 4.511337105345936e-05\n",
      "iteration:86\n",
      "Diff: 4.5620474305126025e-05\n",
      "iteration:87\n",
      "Diff: 4.795400930439297e-05\n",
      "iteration:88\n",
      "Diff: 4.520128266641748e-05\n",
      "iteration:89\n",
      "Diff: 4.850696380962157e-05\n",
      "iteration:90\n",
      "Diff: 4.432193602727679e-05\n",
      "iteration:91\n",
      "Diff: 4.94457292418789e-05\n",
      "iteration:92\n",
      "Diff: 4.5132050677419944e-05\n",
      "iteration:93\n",
      "Diff: 3.9808466444645043e-05\n",
      "iteration:94\n",
      "Diff: 3.9397893801924755e-05\n",
      "iteration:95\n",
      "Diff: 4.450258855147318e-05\n",
      "iteration:96\n",
      "Diff: 5.241785324298777e-05\n",
      "iteration:97\n",
      "Diff: 4.391646787486959e-05\n",
      "iteration:98\n",
      "Diff: 4.325902225449347e-05\n",
      "iteration:99\n",
      "Diff: 4.560904168453903e-05\n"
     ]
    }
   ],
   "source": [
    "W1 = softmax_fit2(X,W,Y)"
   ]
  },
  {
   "cell_type": "code",
   "execution_count": 202,
   "metadata": {},
   "outputs": [
    {
     "data": {
      "text/plain": [
       "795"
      ]
     },
     "execution_count": 202,
     "metadata": {},
     "output_type": "execute_result"
    }
   ],
   "source": [
    "len(np.where(get_predictions(X,W1)==Y)[0])"
   ]
  },
  {
   "cell_type": "code",
   "execution_count": 203,
   "metadata": {},
   "outputs": [
    {
     "name": "stdout",
     "output_type": "stream",
     "text": [
      "Iter:0\n",
      "Current diff0.006302577678467894\n",
      "2.6796673803009718e-06\n"
     ]
    }
   ],
   "source": [
    "W2 = multinomial_grad_descent(X,W,Y,eta = 0.01,max_iter=1000,tol = 10e-5)"
   ]
  },
  {
   "cell_type": "code",
   "execution_count": 204,
   "metadata": {},
   "outputs": [
    {
     "data": {
      "text/plain": [
       "802"
      ]
     },
     "execution_count": 204,
     "metadata": {},
     "output_type": "execute_result"
    }
   ],
   "source": [
    "len(np.where(get_predictions(X,W2)==Y)[0])"
   ]
  },
  {
   "cell_type": "markdown",
   "metadata": {},
   "source": [
    "### blabla\n"
   ]
  },
  {
   "cell_type": "code",
   "execution_count": 115,
   "metadata": {},
   "outputs": [],
   "source": [
    "def Softmax2(Z): # TODO\n",
    "    e_Z = np.exp(Z)\n",
    "    A = e_Z / e_Z.sum(axis = 1, keepdims = True)\n",
    "    return A"
   ]
  },
  {
   "cell_type": "code",
   "execution_count": 130,
   "metadata": {},
   "outputs": [],
   "source": [
    "# calculate gradient \n",
    "def softmax_grad(X, y, W):\n",
    "    A = Softmax(X.dot(W))    # shape of (N, C)\n",
    "    id0 = range(X.shape[0])  # number of train data\n",
    "    A[id0, y] -= 1           # A - Y, shape of (N, C)\n",
    "    return X.T.dot(A)/X.shape[0]\n",
    "    '''\n",
    "    onehot = np.zeros((len(y), C ))\n",
    "    onehot[np.arange(len(y)), y] = 1\n",
    "    A = softmax_stable(x.dot(W))\n",
    "    A = A - onehot\n",
    "    x.T.dot(A2)/x.shape[0]\n",
    "    '''"
   ]
  },
  {
   "cell_type": "code",
   "execution_count": 106,
   "metadata": {},
   "outputs": [],
   "source": [
    "# cost or loss function  \n",
    "def softmax_loss(X, y, W):\n",
    "    A = Softmax(X.dot(W))\n",
    "    id0 = range(X.shape[0])\n",
    "    return -np.mean(np.log(A[id0, y]))"
   ]
  },
  {
   "cell_type": "code",
   "execution_count": 107,
   "metadata": {},
   "outputs": [],
   "source": [
    "# building learning function using softmax gradient descent\n",
    "def softmax_fit(X, y, W, lr = 0.01, nepoches = 100, tol = 1e-5, batch_size = 10):\n",
    "    W_old = W.copy()\n",
    "    ep = 0 \n",
    "    loss_hist = [softmax_loss(X, y, W)] # store history of loss \n",
    "    N = X.shape[0]\n",
    "    nbatches = int(np.ceil(float(N)/batch_size))\n",
    "    while ep < nepoches: \n",
    "        print(\"iteration:\" + str(ep))\n",
    "        \n",
    "        ep += 1 \n",
    "        mix_ids = np.random.permutation(N) # mix data \n",
    "        for i in range(nbatches):\n",
    "            # get the i-th batch\n",
    "            batch_ids = mix_ids[batch_size*i:min(batch_size*(i+1), N)] \n",
    "            X_batch, y_batch = X[batch_ids], y[batch_ids]\n",
    "            W -= lr*softmax_grad(X_batch, y_batch, W) # update gradient descent # TODO\n",
    "        loss_hist.append(softmax_loss(X, y, W))\n",
    "        \n",
    "        print(\"Diff: \" + str(np.linalg.norm(W - W_old)/W.size))\n",
    "        \n",
    "        if np.linalg.norm(W - W_old)/W.size < tol:\n",
    "            break \n",
    "        W_old = W.copy()\n",
    "    return W, loss_hist \n",
    "\n",
    "# predict function\n",
    "def pred(W, X):\n",
    "    A = Softmax(X.dot(W))\n",
    "    return np.argmax(A, axis = 1)"
   ]
  },
  {
   "cell_type": "code",
   "execution_count": 108,
   "metadata": {},
   "outputs": [
    {
     "name": "stderr",
     "output_type": "stream",
     "text": [
      "C:\\Users\\thorb\\Anaconda3\\lib\\site-packages\\sklearn\\utils\\validation.py:595: DataConversionWarning: Data with input dtype uint8 was converted to float64 by StandardScaler.\n",
      "  warnings.warn(msg, DataConversionWarning)\n",
      "C:\\Users\\thorb\\Anaconda3\\lib\\site-packages\\sklearn\\utils\\validation.py:595: DataConversionWarning: Data with input dtype uint8 was converted to float64 by StandardScaler.\n",
      "  warnings.warn(msg, DataConversionWarning)\n"
     ]
    },
    {
     "name": "stdout",
     "output_type": "stream",
     "text": [
      "iteration:0\n",
      "Diff: 0.00018175009801899697\n",
      "iteration:1\n",
      "Diff: 0.0001271231887514532\n",
      "iteration:2\n",
      "Diff: 0.00012174841937629206\n",
      "iteration:3\n",
      "Diff: 0.00010727115540232975\n",
      "iteration:4\n",
      "Diff: 9.184768124563403e-05\n",
      "iteration:5\n",
      "Diff: 8.352339017473348e-05\n",
      "iteration:6\n",
      "Diff: 8.018186644665936e-05\n",
      "iteration:7\n",
      "Diff: 7.688046051936695e-05\n",
      "iteration:8\n",
      "Diff: 7.294802341756877e-05\n",
      "iteration:9\n",
      "Diff: 6.940364627994282e-05\n",
      "iteration:10\n",
      "Diff: 6.961844710308487e-05\n",
      "iteration:11\n",
      "Diff: 6.892273410033972e-05\n",
      "iteration:12\n",
      "Diff: 7.324088490771107e-05\n",
      "iteration:13\n",
      "Diff: 7.041670760507992e-05\n",
      "iteration:14\n",
      "Diff: 5.8545646139522254e-05\n",
      "iteration:15\n",
      "Diff: 6.531835091090147e-05\n",
      "iteration:16\n",
      "Diff: 6.786311355180392e-05\n",
      "iteration:17\n",
      "Diff: 6.477438939742916e-05\n",
      "iteration:18\n",
      "Diff: 6.648661208639878e-05\n",
      "iteration:19\n",
      "Diff: 7.104360243081373e-05\n",
      "iteration:20\n",
      "Diff: 5.792669943926511e-05\n",
      "iteration:21\n",
      "Diff: 7.03403783981781e-05\n",
      "iteration:22\n",
      "Diff: 6.468507970826617e-05\n",
      "iteration:23\n",
      "Diff: 6.964023024410256e-05\n",
      "iteration:24\n",
      "Diff: 5.880141567762853e-05\n",
      "iteration:25\n",
      "Diff: 5.154349066041671e-05\n",
      "iteration:26\n",
      "Diff: 6.236852838318715e-05\n",
      "iteration:27\n",
      "Diff: 5.7471289105617924e-05\n",
      "iteration:28\n",
      "Diff: 5.7901495965231774e-05\n",
      "iteration:29\n",
      "Diff: 6.421365950853905e-05\n",
      "iteration:30\n",
      "Diff: 5.770696963431216e-05\n",
      "iteration:31\n",
      "Diff: 6.071843791898605e-05\n",
      "iteration:32\n",
      "Diff: 6.190782047996082e-05\n",
      "iteration:33\n",
      "Diff: 6.108260914085909e-05\n",
      "iteration:34\n",
      "Diff: 5.2368527254190195e-05\n",
      "iteration:35\n",
      "Diff: 4.889282902251819e-05\n",
      "iteration:36\n",
      "Diff: 5.605171712170574e-05\n",
      "iteration:37\n",
      "Diff: 5.00699621852326e-05\n",
      "iteration:38\n",
      "Diff: 5.991669171796717e-05\n",
      "iteration:39\n",
      "Diff: 6.493433592307538e-05\n",
      "iteration:40\n",
      "Diff: 5.7529139356745915e-05\n",
      "iteration:41\n",
      "Diff: 5.6447832070844805e-05\n",
      "iteration:42\n",
      "Diff: 5.568071863672851e-05\n",
      "iteration:43\n",
      "Diff: 4.9172498019715964e-05\n",
      "iteration:44\n",
      "Diff: 5.9581205241283784e-05\n",
      "iteration:45\n",
      "Diff: 5.539405318762609e-05\n",
      "iteration:46\n",
      "Diff: 5.6551551539490024e-05\n",
      "iteration:47\n",
      "Diff: 5.938695613979322e-05\n",
      "iteration:48\n",
      "Diff: 6.0041473327361656e-05\n",
      "iteration:49\n",
      "Diff: 6.0420677814715096e-05\n",
      "iteration:50\n",
      "Diff: 5.114482066317756e-05\n",
      "iteration:51\n",
      "Diff: 5.741105691608876e-05\n",
      "iteration:52\n",
      "Diff: 5.139792115739394e-05\n",
      "iteration:53\n",
      "Diff: 4.5805111082229826e-05\n",
      "iteration:54\n",
      "Diff: 6.26397837860587e-05\n",
      "iteration:55\n",
      "Diff: 5.991124500300556e-05\n",
      "iteration:56\n",
      "Diff: 4.603554017733843e-05\n",
      "iteration:57\n",
      "Diff: 5.189663778314858e-05\n",
      "iteration:58\n",
      "Diff: 5.050778204451739e-05\n",
      "iteration:59\n",
      "Diff: 4.970269566209413e-05\n",
      "iteration:60\n",
      "Diff: 4.68541813891716e-05\n",
      "iteration:61\n",
      "Diff: 4.92886131307692e-05\n",
      "iteration:62\n",
      "Diff: 4.577311869445951e-05\n",
      "iteration:63\n",
      "Diff: 5.562475347766796e-05\n",
      "iteration:64\n",
      "Diff: 5.058642520894523e-05\n",
      "iteration:65\n",
      "Diff: 5.064472665030948e-05\n",
      "iteration:66\n",
      "Diff: 5.7953637128923715e-05\n",
      "iteration:67\n",
      "Diff: 4.761952489119698e-05\n",
      "iteration:68\n",
      "Diff: 4.941393972956033e-05\n",
      "iteration:69\n",
      "Diff: 4.246097482522349e-05\n",
      "iteration:70\n",
      "Diff: 4.839317025211765e-05\n",
      "iteration:71\n",
      "Diff: 5.914301204633178e-05\n",
      "iteration:72\n",
      "Diff: 5.207250385659594e-05\n",
      "iteration:73\n",
      "Diff: 5.039460269389131e-05\n",
      "iteration:74\n",
      "Diff: 5.05952668845601e-05\n",
      "iteration:75\n",
      "Diff: 5.708099437311349e-05\n",
      "iteration:76\n",
      "Diff: 4.685926892254833e-05\n",
      "iteration:77\n",
      "Diff: 4.9948889355347894e-05\n",
      "iteration:78\n",
      "Diff: 4.407482500716452e-05\n",
      "iteration:79\n",
      "Diff: 4.6860940414159775e-05\n",
      "iteration:80\n",
      "Diff: 4.721078537289464e-05\n",
      "iteration:81\n",
      "Diff: 4.2327492579669216e-05\n",
      "iteration:82\n",
      "Diff: 5.121969581997602e-05\n",
      "iteration:83\n",
      "Diff: 4.54771563091968e-05\n",
      "iteration:84\n",
      "Diff: 4.804965702148193e-05\n",
      "iteration:85\n",
      "Diff: 5.011473415747415e-05\n",
      "iteration:86\n",
      "Diff: 4.062074228590344e-05\n",
      "iteration:87\n",
      "Diff: 4.0501986541987436e-05\n",
      "iteration:88\n",
      "Diff: 4.0087039308993564e-05\n",
      "iteration:89\n",
      "Diff: 3.885827036541674e-05\n",
      "iteration:90\n",
      "Diff: 5.0078735070127384e-05\n",
      "iteration:91\n",
      "Diff: 4.169853736232948e-05\n",
      "iteration:92\n",
      "Diff: 4.6175616084632045e-05\n",
      "iteration:93\n",
      "Diff: 4.4933188985615824e-05\n",
      "iteration:94\n",
      "Diff: 4.046213174713497e-05\n",
      "iteration:95\n",
      "Diff: 4.155392674351181e-05\n",
      "iteration:96\n",
      "Diff: 4.616353355944429e-05\n",
      "iteration:97\n",
      "Diff: 4.3981315215103915e-05\n",
      "iteration:98\n",
      "Diff: 4.8913401584717626e-05\n",
      "iteration:99\n",
      "Diff: 4.367188703910147e-05\n"
     ]
    }
   ],
   "source": [
    "X = scaler.fit_transform(X_train1[:1000,:].reshape(1000,28*28))\n",
    "Y = Y_train1[:1000]\n",
    "#W = np.random.randint(5,size=(28*28,3))\n",
    "W =  0.01* np.random.rand(28*28,3)\n",
    "\n",
    "W = softmax_fit(X,Y, W,)[0]"
   ]
  },
  {
   "cell_type": "code",
   "execution_count": null,
   "metadata": {},
   "outputs": [],
   "source": []
  }
 ],
 "metadata": {
  "kernelspec": {
   "display_name": "Python 3",
   "language": "python",
   "name": "python3"
  }
 },
 "nbformat": 4,
 "nbformat_minor": 2
}
