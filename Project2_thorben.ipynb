{
 "cells": [
  {
   "cell_type": "markdown",
   "metadata": {},
   "source": [
    "# Loading Dependencies"
   ]
  },
  {
   "cell_type": "code",
   "execution_count": 1,
   "metadata": {},
   "outputs": [
    {
     "name": "stdout",
     "output_type": "stream",
     "text": [
      "Current working directory:\n",
      "C:\\Users\\thorb\\OneDrive\\Documents\\Math TU Delft\\USYD ML2\\COMP5328 Project 2\n",
      "['CIFAR.npz', 'FashionMNIST0.5.npz', 'FashionMNIST0.6.npz']\n"
     ]
    }
   ],
   "source": [
    "#Loading Dependencies\n",
    "\n",
    "import pandas as pd\n",
    "from matplotlib import pyplot as plt\n",
    "import numpy as np\n",
    "import h5py\n",
    "import os\n",
    "import sklearn as sk\n",
    "from sklearn.decomposition import PCA\n",
    "from timeit import default_timer as timer\n",
    "\n",
    "\n",
    "from PIL import Image\n",
    "from IPython.display import display\n",
    "\n",
    "\n",
    "work_dir = os.getcwd()\n",
    "print('Current working directory:')\n",
    "print(work_dir)\n",
    "\n",
    "\n",
    "\n",
    "\n",
    "print(os.listdir(\"./data\"))"
   ]
  },
  {
   "cell_type": "markdown",
   "metadata": {},
   "source": [
    "# Loading Data"
   ]
  },
  {
   "cell_type": "markdown",
   "metadata": {},
   "source": [
    "## 1. Fashion MNIST0.5 "
   ]
  },
  {
   "cell_type": "code",
   "execution_count": 2,
   "metadata": {},
   "outputs": [
    {
     "data": {
      "text/plain": [
       "((18000, 28, 28), (18000,), (3000, 28, 28), (3000,))"
      ]
     },
     "execution_count": 2,
     "metadata": {},
     "output_type": "execute_result"
    }
   ],
   "source": [
    "data1 = np.load(work_dir + \"./data/FashionMNIST0.5.npz\")\n",
    "X_train1 = data1['Xtr']\n",
    "Y_train1 = data1['Str']\n",
    "X_test1 = data1['Xts']\n",
    "Y_test1 = data1['Yts']\n",
    "\n",
    "X_train1.shape, Y_train1.shape, X_test1.shape, Y_test1.shape"
   ]
  },
  {
   "cell_type": "code",
   "execution_count": 3,
   "metadata": {},
   "outputs": [
    {
     "data": {
      "text/plain": [
       "{0, 1, 2}"
      ]
     },
     "execution_count": 3,
     "metadata": {},
     "output_type": "execute_result"
    }
   ],
   "source": [
    "set(Y_train1)"
   ]
  },
  {
   "cell_type": "code",
   "execution_count": 5,
   "metadata": {},
   "outputs": [
    {
     "data": {
      "image/png": "[encoded data removed]",
      "text/plain": [
       "<PIL.Image.Image image mode=L size=28x28 at 0x24FC05D4358>"
      ]
     },
     "metadata": {},
     "output_type": "display_data"
    },
    {
     "data": {
      "image/png": "[encoded data removed]",
      "text/plain": [
       "<PIL.Image.Image image mode=L size=28x28 at 0x24FC06FF978>"
      ]
     },
     "metadata": {},
     "output_type": "display_data"
    },
    {
     "data": {
      "image/png": "[encoded data removed]",
      "text/plain": [
       "<PIL.Image.Image image mode=L size=28x28 at 0x24FC06FF978>"
      ]
     },
     "metadata": {},
     "output_type": "display_data"
    },
    {
     "data": {
      "image/png": "[encoded data removed]",
      "text/plain": [
       "<PIL.Image.Image image mode=L size=28x28 at 0x24FC06FF978>"
      ]
     },
     "metadata": {},
     "output_type": "display_data"
    },
    {
     "data": {
      "image/png": "[encoded data removed]",
      "text/plain": [
       "<PIL.Image.Image image mode=L size=28x28 at 0x24FC06FF978>"
      ]
     },
     "metadata": {},
     "output_type": "display_data"
    },
    {
     "data": {
      "image/png": "[encoded data removed]",
      "text/plain": [
       "<PIL.Image.Image image mode=L size=28x28 at 0x24FC06FF978>"
      ]
     },
     "metadata": {},
     "output_type": "display_data"
    },
    {
     "data": {
      "image/png": "[encoded data removed]",
      "text/plain": [
       "<PIL.Image.Image image mode=L size=28x28 at 0x24FC06FF978>"
      ]
     },
     "metadata": {},
     "output_type": "display_data"
    },
    {
     "data": {
      "image/png": "[encoded data removed]",
      "text/plain": [
       "<PIL.Image.Image image mode=L size=28x28 at 0x24FC06FF978>"
      ]
     },
     "metadata": {},
     "output_type": "display_data"
    },
    {
     "data": {
      "image/png": "[encoded data removed]",
      "text/plain": [
       "<PIL.Image.Image image mode=L size=28x28 at 0x24FC06FF978>"
      ]
     },
     "metadata": {},
     "output_type": "display_data"
    },
    {
     "data": {
      "image/png": "[encoded data removed]",
      "text/plain": [
       "<PIL.Image.Image image mode=L size=28x28 at 0x24FC06FF9E8>"
      ]
     },
     "metadata": {},
     "output_type": "display_data"
    }
   ],
   "source": [
    "for k in np.random.randint(18000, size=10):\n",
    "    X_image = X_train1[k]\n",
    "    display(Image.fromarray(X_image))\n"
   ]
  },
  {
   "cell_type": "markdown",
   "metadata": {},
   "source": [
    "## 2. MNIST 0.6"
   ]
  },
  {
   "cell_type": "code",
   "execution_count": 6,
   "metadata": {},
   "outputs": [
    {
     "data": {
      "text/plain": [
       "((18000, 28, 28), (18000,), (3000, 28, 28), (3000,))"
      ]
     },
     "execution_count": 6,
     "metadata": {},
     "output_type": "execute_result"
    }
   ],
   "source": [
    "data2 = np.load(work_dir + \"./data/FashionMNIST0.6.npz\")\n",
    "X_train2 = data2['Xtr']\n",
    "Y_train2 = data2['Str']\n",
    "X_test2 = data2['Xts']\n",
    "Y_test2 = data2['Yts']\n",
    "\n",
    "X_train2.shape, Y_train2.shape, X_test2.shape, Y_test2.shape"
   ]
  },
  {
   "cell_type": "code",
   "execution_count": 7,
   "metadata": {},
   "outputs": [
    {
     "data": {
      "text/plain": [
       "{0, 1, 2}"
      ]
     },
     "execution_count": 7,
     "metadata": {},
     "output_type": "execute_result"
    }
   ],
   "source": [
    "set(Y_train2)"
   ]
  },
  {
   "cell_type": "code",
   "execution_count": 8,
   "metadata": {},
   "outputs": [
    {
     "data": {
      "image/png": "[encoded data removed]",
      "text/plain": [
       "<PIL.Image.Image image mode=L size=28x28 at 0x24FC06FFE80>"
      ]
     },
     "metadata": {},
     "output_type": "display_data"
    },
    {
     "data": {
      "image/png": "[encoded data removed]",
      "text/plain": [
       "<PIL.Image.Image image mode=L size=28x28 at 0x24FC06FFE80>"
      ]
     },
     "metadata": {},
     "output_type": "display_data"
    },
    {
     "data": {
      "image/png": "[encoded data removed]",
      "text/plain": [
       "<PIL.Image.Image image mode=L size=28x28 at 0x24FC06FFE48>"
      ]
     },
     "metadata": {},
     "output_type": "display_data"
    },
    {
     "data": {
      "image/png": "[encoded data removed]",
      "text/plain": [
       "<PIL.Image.Image image mode=L size=28x28 at 0x24FC06FFE48>"
      ]
     },
     "metadata": {},
     "output_type": "display_data"
    },
    {
     "data": {
      "image/png": "[encoded data removed]",
      "text/plain": [
       "<PIL.Image.Image image mode=L size=28x28 at 0x24FBF5A52B0>"
      ]
     },
     "metadata": {},
     "output_type": "display_data"
    },
    {
     "data": {
      "image/png": "[encoded data removed]",
      "text/plain": [
       "<PIL.Image.Image image mode=L size=28x28 at 0x24FBF5A52B0>"
      ]
     },
     "metadata": {},
     "output_type": "display_data"
    },
    {
     "data": {
      "image/png": "[encoded data removed]",
      "text/plain": [
       "<PIL.Image.Image image mode=L size=28x28 at 0x24FBF5A52B0>"
      ]
     },
     "metadata": {},
     "output_type": "display_data"
    },
    {
     "data": {
      "image/png": "[encoded data removed]",
      "text/plain": [
       "<PIL.Image.Image image mode=L size=28x28 at 0x24FBF5A52B0>"
      ]
     },
     "metadata": {},
     "output_type": "display_data"
    },
    {
     "data": {
      "image/png": "[encoded data removed]",
      "text/plain": [
       "<PIL.Image.Image image mode=L size=28x28 at 0x24FBF5A52B0>"
      ]
     },
     "metadata": {},
     "output_type": "display_data"
    },
    {
     "data": {
      "image/png": "[encoded data removed]",
      "text/plain": [
       "<PIL.Image.Image image mode=L size=28x28 at 0x24FBF5A52B0>"
      ]
     },
     "metadata": {},
     "output_type": "display_data"
    }
   ],
   "source": [
    "for k in np.random.randint(18000, size=10):\n",
    "    X_image = X_train2[k]\n",
    "    display(Image.fromarray(X_image))\n"
   ]
  },
  {
   "cell_type": "markdown",
   "metadata": {},
   "source": [
    "# CIFAR"
   ]
  },
  {
   "cell_type": "code",
   "execution_count": 9,
   "metadata": {},
   "outputs": [
    {
     "data": {
      "text/plain": [
       "((15000, 32, 32, 3), (15000,), (3000, 32, 32, 3), (3000,))"
      ]
     },
     "execution_count": 9,
     "metadata": {},
     "output_type": "execute_result"
    }
   ],
   "source": [
    "data3 = np.load(work_dir + \"./data/CIFAR.npz\")\n",
    "X_train3 = data3['Xtr']\n",
    "Y_train3 = data3['Str']\n",
    "X_test3 = data3['Xts']\n",
    "Y_test3 = data3['Yts']\n",
    "\n",
    "X_train3.shape, Y_train3.shape, X_test3.shape, Y_test3.shape"
   ]
  },
  {
   "cell_type": "code",
   "execution_count": 10,
   "metadata": {},
   "outputs": [
    {
     "data": {
      "text/plain": [
       "{0, 1, 2}"
      ]
     },
     "execution_count": 10,
     "metadata": {},
     "output_type": "execute_result"
    }
   ],
   "source": [
    "set(Y_train3)"
   ]
  },
  {
   "cell_type": "code",
   "execution_count": 11,
   "metadata": {},
   "outputs": [
    {
     "data": {
      "image/png": "[encoded data removed]",
      "text/plain": [
       "<PIL.Image.Image image mode=RGB size=32x32 at 0x24FC070C7F0>"
      ]
     },
     "metadata": {},
     "output_type": "display_data"
    },
    {
     "data": {
      "image/png": "[encoded data removed]",
      "text/plain": [
       "<PIL.Image.Image image mode=RGB size=32x32 at 0x24FBA3E0F98>"
      ]
     },
     "metadata": {},
     "output_type": "display_data"
    },
    {
     "data": {
      "image/png": "[encoded data removed]",
      "text/plain": [
       "<PIL.Image.Image image mode=RGB size=32x32 at 0x24FBA3E0B70>"
      ]
     },
     "metadata": {},
     "output_type": "display_data"
    },
    {
     "data": {
      "image/png": "[encoded data removed]",
      "text/plain": [
       "<PIL.Image.Image image mode=RGB size=32x32 at 0x24FC070C7F0>"
      ]
     },
     "metadata": {},
     "output_type": "display_data"
    },
    {
     "data": {
      "image/png": "[encoded data removed]",
      "text/plain": [
       "<PIL.Image.Image image mode=RGB size=32x32 at 0x24FBA3E0D68>"
      ]
     },
     "metadata": {},
     "output_type": "display_data"
    },
    {
     "data": {
      "image/png": "[encoded data removed]",
      "text/plain": [
       "<PIL.Image.Image image mode=RGB size=32x32 at 0x24FC070C7F0>"
      ]
     },
     "metadata": {},
     "output_type": "display_data"
    },
    {
     "data": {
      "image/png": "[encoded data removed]",
      "text/plain": [
       "<PIL.Image.Image image mode=RGB size=32x32 at 0x24FBA3E0F98>"
      ]
     },
     "metadata": {},
     "output_type": "display_data"
    },
    {
     "data": {
      "image/png": "[encoded data removed]",
      "text/plain": [
       "<PIL.Image.Image image mode=RGB size=32x32 at 0x24FBA3E0D68>"
      ]
     },
     "metadata": {},
     "output_type": "display_data"
    },
    {
     "data": {
      "image/png": "[encoded data removed]",
      "text/plain": [
       "<PIL.Image.Image image mode=RGB size=32x32 at 0x24FBA3E0B70>"
      ]
     },
     "metadata": {},
     "output_type": "display_data"
    },
    {
     "data": {
      "image/png": "[encoded data removed]",
      "text/plain": [
       "<PIL.Image.Image image mode=RGB size=32x32 at 0x24FC070C7F0>"
      ]
     },
     "metadata": {},
     "output_type": "display_data"
    }
   ],
   "source": [
    "for k in np.random.randint(15000, size=10):\n",
    "    X_image = X_train3[k]\n",
    "    display(Image.fromarray(X_image))"
   ]
  },
  {
   "cell_type": "markdown",
   "metadata": {},
   "source": [
    "## Preprocessing"
   ]
  },
  {
   "cell_type": "code",
   "execution_count": 12,
   "metadata": {},
   "outputs": [],
   "source": [
    "def encode(Y):\n",
    "    n,c = Y.size, len(set(Y))\n",
    "    Y_encoded = np.zeros((n,c))\n",
    "    \n",
    "    for i in range(n):\n",
    "        Y_encoded[i,Y[i]] = 1\n",
    "    \n",
    "    return Y_encoded\n",
    "    \n",
    "    "
   ]
  },
  {
   "cell_type": "code",
   "execution_count": 13,
   "metadata": {},
   "outputs": [
    {
     "data": {
      "text/plain": [
       "(18000, 3)"
      ]
     },
     "execution_count": 13,
     "metadata": {},
     "output_type": "execute_result"
    }
   ],
   "source": [
    "encode(Y_train1).shape"
   ]
  },
  {
   "cell_type": "markdown",
   "metadata": {},
   "source": [
    "# Models"
   ]
  },
  {
   "cell_type": "markdown",
   "metadata": {},
   "source": [
    "## Multinomial"
   ]
  },
  {
   "cell_type": "code",
   "execution_count": 14,
   "metadata": {},
   "outputs": [],
   "source": [
    "#For c-dim vector, returns c-dim vector exp(vector_c)/sum(exp_(vector_c))\n",
    "def softmax(array):\n",
    "    n,c = array.shape\n",
    "\n",
    "    temp = np.exp(array)\n",
    "    \n",
    "    temp2 = np.sum(temp,axis = 1) #our input: XW nxC -> sum row-wise\n",
    "    \n",
    "    result = temp/temp2.reshape(n,1) #division, row wise\n",
    "    \n",
    "    return result\n",
    "    \n",
    "#Returns:\n",
    "#Row-wise: softmax(array_row1), softmax(array_row2),...,softmax(array_rown)\n",
    "# working as intended\n",
    "    "
   ]
  },
  {
   "cell_type": "code",
   "execution_count": 15,
   "metadata": {},
   "outputs": [],
   "source": [
    "# X nxp data\n",
    "# W pxc weights for every class\n",
    "def mu(X,W):\n",
    "    XW = X@W\n",
    "    \n",
    "    return softmax(XW)\n",
    "    \n",
    "#rows of XW are <X_row_i, W_column_j>\n",
    "# row of X: data samples\n",
    "# j column of W: weights for class j \\in {0,1,2}\n",
    "# Thus, returns: softmax(X_i, class_j) = exp(x_i*w_j)/sum_c exp(x_i*W_c)\n",
    "    "
   ]
  },
  {
   "cell_type": "code",
   "execution_count": 16,
   "metadata": {},
   "outputs": [],
   "source": [
    "# Returns the gradient of the cross error entropy function in W (as per Murphy)\n",
    "# X nxp\n",
    "# W pxC\n",
    "# Y (encoded) nxC\n",
    "def ceef_grad(X,W,Y):\n",
    "    mu_matrix = mu(X,W) #nxc\n",
    "    n,p = X.shape\n",
    "    p,c = W.shape\n",
    "    \n",
    "    grad = np.zeros((p,c))\n",
    "    for i in range(n):\n",
    "        grad += np.transpose(np.kron((mu_matrix[i,:] - Y[i,:]),X[i,:]).reshape(c,p))\n",
    "        #reshape: reshapes a matrix by filling up rows first, we need columns first, thus the transpose with interchange p,c\n",
    "    \n",
    "    return grad"
   ]
  },
  {
   "cell_type": "code",
   "execution_count": 17,
   "metadata": {},
   "outputs": [],
   "source": [
    "def multinomial_grad_descent(X,W,Y,eta,max_iter,tol):\n",
    "    Y = encode(Y)\n",
    "    \n",
    "    grad = ceef_grad(X,W,Y)\n",
    "    diff = np.linalg.norm(eta * grad)\n",
    "    iter = 0\n",
    "    \n",
    "    while (diff > tol) and iter < max_iter:\n",
    "        if iter%500 == 0:\n",
    "            print('Iter:' + str(iter))\n",
    "            print('Current diff' + str(diff))\n",
    "        \n",
    "        W = W - eta * grad\n",
    "        \n",
    "        #new gradient:\n",
    "        grad = ceef_grad(X,W,Y)\n",
    "        #new diff:\n",
    "        diff = np.linalg.norm(eta*grad)\n",
    "        iter += 1\n",
    "    return W\n",
    "    "
   ]
  },
  {
   "cell_type": "code",
   "execution_count": 272,
   "metadata": {},
   "outputs": [
    {
     "name": "stderr",
     "output_type": "stream",
     "text": [
      "C:\\Users\\thorb\\Anaconda3\\lib\\site-packages\\sklearn\\utils\\validation.py:595: DataConversionWarning: Data with input dtype uint8 was converted to float64 by StandardScaler.\n",
      "  warnings.warn(msg, DataConversionWarning)\n",
      "C:\\Users\\thorb\\Anaconda3\\lib\\site-packages\\sklearn\\utils\\validation.py:595: DataConversionWarning: Data with input dtype uint8 was converted to float64 by StandardScaler.\n",
      "  warnings.warn(msg, DataConversionWarning)\n"
     ]
    },
    {
     "name": "stdout",
     "output_type": "stream",
     "text": [
      "Iter:0\n",
      "Current diff0.1531218322999114\n",
      "Iter:500\n",
      "Current diff0.24075526458753607\n",
      "Iter:1000\n",
      "Current diff0.1661749498238168\n",
      "Iter:1500\n",
      "Current diff0.1174096831070201\n",
      "Iter:2000\n",
      "Current diff0.07354128401347525\n",
      "Iter:2500\n",
      "Current diff0.023055639679453028\n",
      "Iter:3000\n",
      "Current diff0.0018913971581760323\n",
      "Iter:3500\n",
      "Current diff0.0017443882063014839\n",
      "Iter:4000\n",
      "Current diff0.0016255487660302784\n",
      "Iter:4500\n",
      "Current diff0.0015266119452727995\n",
      "Iter:5000\n",
      "Current diff0.0014425901268019952\n",
      "Iter:5500\n",
      "Current diff0.0013701399769798998\n",
      "Iter:6000\n",
      "Current diff0.001306893503857958\n",
      "Iter:6500\n",
      "Current diff0.0012511105544773663\n",
      "Iter:7000\n",
      "Current diff0.0012014763170707197\n",
      "Iter:7500\n",
      "Current diff0.0011569748245842408\n",
      "Iter:8000\n",
      "Current diff0.0011168062137533916\n",
      "Iter:8500\n",
      "Current diff0.0010803307541471785\n",
      "Iter:9000\n",
      "Current diff0.0010470299247884998\n",
      "Iter:9500\n",
      "Current diff0.0010164786622627246\n"
     ]
    }
   ],
   "source": [
    "from sklearn.preprocessing import StandardScaler\n",
    "scaler = StandardScaler()\n",
    "\n",
    "X = scaler.fit_transform(X_train1[:1000,:].reshape(1000,28*28))\n",
    "Y = Y_train1[:1000]\n",
    "#W = np.random.randint(5,size=(28*28,3))\n",
    "W =  0.01* np.random.rand(28*28,3)\n",
    "result = multinomial_grad_descent(X, W, Y, 0.0001, 10000, 0.0000001)"
   ]
  },
  {
   "cell_type": "code",
   "execution_count": null,
   "metadata": {},
   "outputs": [],
   "source": []
  }
 ],
 "metadata": {
  "kernelspec": {
   "display_name": "Python 3",
   "language": "python",
   "name": "python3"
  },
  "language_info": {
   "codemirror_mode": {
    "name": "ipython",
    "version": 3
   },
   "file_extension": ".py",
   "mimetype": "text/x-python",
   "name": "python",
   "nbconvert_exporter": "python",
   "pygments_lexer": "ipython3",
   "version": "3.7.1"
  }
 },
 "nbformat": 4,
 "nbformat_minor": 2
}
